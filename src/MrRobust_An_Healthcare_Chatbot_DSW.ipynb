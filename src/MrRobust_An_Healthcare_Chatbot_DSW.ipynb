{
 "cells": [
  {
   "cell_type": "markdown",
   "metadata": {},
   "source": [
    "# MrRobust - An Healthcare Chatbot"
   ]
  },
  {
   "cell_type": "code",
   "execution_count": 1,
   "metadata": {
    "ExecuteTime": {
     "end_time": "2020-11-21T11:31:53.142246Z",
     "start_time": "2020-11-21T11:31:52.055895Z"
    }
   },
   "outputs": [],
   "source": [
    "# Importing the necessary third party libraries\n",
    "\n",
    "import nltk\n",
    "from sklearn.metrics.pairwise import cosine_similarity\n",
    "from sklearn.feature_extraction.text import TfidfVectorizer\n",
    "\n",
    "import warnings\n",
    "warnings.filterwarnings('ignore')\n",
    "\n",
    "# Importing the necessary functions from bot_functions_file module\n",
    "\n",
    "from bot_functions_file import salutation\n",
    "from bot_functions_file import advice\n",
    "from bot_functions_file import LemmaWords\n",
    "from bot_functions_file import FinalLemma\n",
    "\n",
    "# If using nltk library for first time, run the below cipher to download lexical database\n",
    "# nltk.download('punkt')\n",
    "# nltk.download('wordnet')"
   ]
  },
  {
   "cell_type": "code",
   "execution_count": 2,
   "metadata": {
    "ExecuteTime": {
     "end_time": "2020-11-21T11:31:56.102505Z",
     "start_time": "2020-11-21T11:31:56.093751Z"
    }
   },
   "outputs": [],
   "source": [
    "# Importing the dataset with open() function in read only mode\n",
    "data = open('../data/bot_data.txt', 'r')\n",
    "\n",
    "# Converting all the words inside the dataset into lowercase\n",
    "data = data.read()\n",
    "data = data.lower()"
   ]
  },
  {
   "cell_type": "code",
   "execution_count": 3,
   "metadata": {
    "ExecuteTime": {
     "end_time": "2020-11-21T11:31:59.080736Z",
     "start_time": "2020-11-21T11:31:59.070910Z"
    }
   },
   "outputs": [],
   "source": [
    "# Main function for replying to client\n",
    "\n",
    "def botReply(client_query):\n",
    "    \"\"\"Function for MrRobust bot replying to queries of client\"\"\"\n",
    "    \n",
    "    # Initialisation MrRobust reply\n",
    "    MrRobust_reply = ''\n",
    "    \n",
    "    # Transforming the data into sentence-tokenized copy of text\n",
    "    list_of_sentence = nltk.sent_tokenize(data)\n",
    "    list_of_sentence.append(client_query)\n",
    "    \n",
    "    # Using TFidf vectorizer to transform the text to a matrix of TF-IDF attributes\n",
    "    vectorizer = TfidfVectorizer(tokenizer = FinalLemma, stop_words = 'english')\n",
    "    transformed_vectorizer = vectorizer.fit_transform(list_of_sentence)\n",
    "    \n",
    "    # Using Cosine similarity to find the similarity between queries asked by the client and the replies given by the bot\n",
    "    csn_smlrty = cosine_similarity(transformed_vectorizer[-1], transformed_vectorizer)\n",
    "    csn_smlrty_argsrt = csn_smlrty.argsort()[0][-2]\n",
    "    csn_smlrty_flatten = csn_smlrty.flatten()\n",
    "    csn_smlrty_flatten.sort()\n",
    "    terminal_vectorizer = csn_smlrty_flatten[-2]\n",
    "    \n",
    "    # If bot is unable to understand what the client asked then it will leave a acknowledgement message\n",
    "    if(terminal_vectorizer == 0):\n",
    "        MrRobust_reply = MrRobust_reply + \"Pardon me , I couldn't comprehend what you asked. Can you be more specific?\"\n",
    "        return MrRobust_reply\n",
    "    \n",
    "    else:\n",
    "        MrRobust_reply = MrRobust_reply + list_of_sentence[csn_smlrty_argsrt]\n",
    "        return MrRobust_reply[:300]"
   ]
  },
  {
   "cell_type": "code",
   "execution_count": 4,
   "metadata": {
    "ExecuteTime": {
     "end_time": "2020-11-21T11:37:06.800927Z",
     "start_time": "2020-11-21T11:32:04.555610Z"
    }
   },
   "outputs": [
    {
     "name": "stdout",
     "output_type": "stream",
     "text": [
      "MrRobust : Hi there, I am a healthcare chatbot. You can ask me questions related to your health. I will try my best to give an adequate reply to your queries\n",
      "Hi\n",
      "MrRobust : hey\n",
      "\n",
      "From past few days, I am experiencing some pain in my chest and also blood in my cough, could you tell me  which disease I am suffering from?\n",
      "MrRobust : don't panic, if you are having pain in your chest and some blood in cough, then this can be a indication of tubercolosis disease.\n",
      "\n",
      "Okay, so what is the treatment for Tubercolosis then?\n",
      "MrRobust : for the treatment of tubercolosis, you can take some antibiotics like isoniazid, rifampin and pyrazinamide for at least six to nine months.\n",
      "\n",
      "Could you tell me from which disease I am suffering from, if I am having blurry vision and cannot see clearly in dim light?\n",
      "MrRobust : dont worry, experiencing blurry vision and unable to see clearly in dim light can be a sign of cataract disease.\n",
      "\n",
      "So, what is the treatment of cataract?\n",
      "MrRobust : for treatment of cataract, you can take some vigamox drops in your eyes and if you are exhibiting some serious symptoms, then you should have eye surgery.\n",
      "\n",
      "Okay, so for the surgery of cataract, which hospital should I visit?\n",
      "MrRobust : for cataract surgery, you can visit eye7 hospital and can book an appointment by using this link -> https://www.eye7.in/ .\n",
      "\n",
      "Can you recommend me some health tips ?\n",
      "MrRobust : Eat lots of fruits and vegetables\n",
      "\n",
      "What is Covid-19 disease?\n",
      "MrRobust : coronavirus disease (covid-19) is an infectious disease caused by a newly discovered coronavirus .\n",
      "\n",
      "What are the symptoms of covid-19?\n",
      "MrRobust : person suffering from covid-19 can experience a broad range of symptoms which can stretch from mild symptoms to critical illness and these symptoms can be: fever, cough, muscle pain, shortness of breath, loss of taste or smell .\n",
      "\n",
      "How does the transmission of Covid-19 take place? \n",
      "MrRobust : covid-19 is a new disease and experts are still learning about how it's transmission takes place, although the virus is thought to spread mainly from person-to-person .\n",
      "\n",
      "Which covid-19 patients are on a higher risk?\n",
      "MrRobust : covid-19 patients with pre-existing illnesses like cardiovascular disease, diabetes, chronic respiratory disease, hypertension are on a higher risk, also for further information, you can visit https://www.who.int/emergencies/diseases/novel-coronavirus-2019 .\n",
      "\n",
      "How much is the incubation period of Covid-19?\n",
      "MrRobust : the incubation period of the covid-19 is estimated to be between 2 and 14 days based on the reports provided by world health organization (who) , china’s national health commission (nhc) and united states cdc.\n",
      "\n",
      "What should I do to avoid contracting Covid-19?\n",
      "MrRobust : you should wear a mask and follow social distancing when going outside in order to avoid contracting covid-19 .\n",
      "\n",
      "Where can I check the facts about Covid-19 ?\n",
      "MrRobust : misinformation spreads like a virus,  you can refer to this link -> https://fullfact.org/health/coronavirus/ to check facts about covid-19 .\n",
      "\n",
      "Can you provide me the coronavirus helpline number for Haryana?\n",
      "MrRobust : the coronavirus helpline number for haryana  is 8558893911 , please check this link for further reference https://www.mohfw.gov.in/pdf/coronvavirushelplinenumber.pdf .\n",
      "\n",
      "Where can I view the stats of Covid-19 ?\n",
      "MrRobust : for viewing graphs and stats for covid-19, you can refer to this link -> https://www.worldometers.info/coronavirus/worldwide-graphs/ .\n",
      "\n",
      "bye\n",
      "MrRobust : Bye-bye, Have a nice day ahead and take care of your health\n"
     ]
    }
   ],
   "source": [
    "# Cipher for general queries and replies \n",
    "\n",
    "flag = True\n",
    "\n",
    "# Output statement by the chatbot when the conversation commence\n",
    "print(\"MrRobust : Hi there, I am a healthcare chatbot. You can ask me questions related to your health. \" \\\n",
    "      \"I will try my best to give an adequate reply to your queries\")\n",
    "\n",
    "while(flag == True):\n",
    "    \n",
    "    # For taking the queries of the client\n",
    "    client_query = input()\n",
    "    \n",
    "    # For converting the input text into lowercase\n",
    "    client_query = client_query.lower()\n",
    "    \n",
    "    # Replies by the bot for general queries\n",
    "    if(client_query != 'exit' and client_query != 'bye'):\n",
    "        if(salutation(client_query) != None):\n",
    "            print(\"MrRobust : \" + salutation(client_query) + \"\\n\")\n",
    "        elif(advice(client_query) != None):\n",
    "            print(\"MrRobust : \" + advice(client_query) + \"\\n\")\n",
    "        else:\n",
    "            print(\"MrRobust : \", end = \"\")\n",
    "            print(botReply(client_query) + \"\\n\")\n",
    "\n",
    "    # Reply by the bot at the end of conversation\n",
    "    else:\n",
    "        flag = False\n",
    "        print(\"MrRobust : Bye-bye, Have a nice day ahead and take care of your health\")"
   ]
  },
  {
   "cell_type": "code",
   "execution_count": null,
   "metadata": {},
   "outputs": [],
   "source": []
  }
 ],
 "metadata": {
  "kernelspec": {
   "display_name": "Python 3",
   "language": "python",
   "name": "python3"
  },
  "language_info": {
   "codemirror_mode": {
    "name": "ipython",
    "version": 3
   },
   "file_extension": ".py",
   "mimetype": "text/x-python",
   "name": "python",
   "nbconvert_exporter": "python",
   "pygments_lexer": "ipython3",
   "version": "3.7.5"
  }
 },
 "nbformat": 4,
 "nbformat_minor": 4
}
